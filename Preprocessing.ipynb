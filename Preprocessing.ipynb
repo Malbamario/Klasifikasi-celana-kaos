{
 "cells": [
  {
   "attachments": {},
   "cell_type": "markdown",
   "metadata": {},
   "source": [
    "## **Mengimport Library yang dibutuhkan**"
   ]
  },
  {
   "cell_type": "code",
   "execution_count": 6,
   "metadata": {},
   "outputs": [],
   "source": [
    "import cv2 as cv\n",
    "import numpy as np\n",
    "import matplotlib.pyplot as plt\n",
    "import os\n",
    "import pandas as pd\n",
    "import seaborn as sns"
   ]
  },
  {
   "attachments": {},
   "cell_type": "markdown",
   "metadata": {},
   "source": [
    "## **Membaca Path dan Mengimport Gambar Yang Akan Diolah dan Mengkonversi ke Grayscale**"
   ]
  },
  {
   "cell_type": "code",
   "execution_count": 7,
   "metadata": {},
   "outputs": [],
   "source": [
    "folders = [\n",
    "    \"dataset/Kaos/\", \n",
    "    \"dataset/celana_panjang/\", \n",
    "    \"dataset/celana_pendek/\",\n",
    "    ]\n",
    "data = []\n",
    "file_name=[]\n",
    "for folder in folders:\n",
    "    dataset = os.listdir(folder)\n",
    "    for file in dataset:\n",
    "        img_path = os.path.join(folder, file)\n",
    "        name = os.path.splitext(file)[0]\n",
    "        temp = cv.imread(img_path)\n",
    "        gray_img = cv.cvtColor(temp, cv.COLOR_BGR2GRAY)\n",
    "        data.append(gray_img)\n",
    "        file_name.append(name)"
   ]
  },
  {
   "attachments": {},
   "cell_type": "markdown",
   "metadata": {},
   "source": [
    "Code di atas memiliki fungsi untuk membaca dataset gambar yang terdapat dalam beberapa folder yang telah ditentukan. Pertama, kita memiliki sebuah list `folders` yang berisi path menuju folder-folder yang berisi dataset gambar. Selanjutnya, kita membuat dua list kosong `data` dan `file_name` yang akan digunakan untuk menyimpan hasil pembacaan gambar.\n",
    "\n",
    "Selanjutnya, dilakukan iterasi pada setiap folder dalam list `folders`. Pada setiap iterasi, kita mendapatkan daftar file dalam folder tersebut menggunakan fungsi `os.listdir()`. Kemudian, dilakukan iterasi pada setiap file dalam daftar file tersebut.\n",
    "\n",
    "Pada setiap iterasi file, kita menggabungkan path folder dengan nama file menggunakan fungsi `os.path.join()`, sehingga kita mendapatkan path lengkap ke file gambar. Selanjutnya, kita mengambil nama file tanpa ekstensi menggunakan fungsi `os.path.splitext()` dan memilih indeks ke-0 (nama file tanpa ekstensi).\n",
    "\n",
    "Selanjutnya, kita membaca gambar menggunakan fungsi `cv.imread()` dari library OpenCV. Gambar yang terbaca disimpan dalam variabel `temp`. Selanjutnya, gambar tersebut diubah menjadi grayscale menggunakan fungsi `cv.cvtColor()` dari OpenCV dengan konversi dari BGR ke grayscale. Hasilnya disimpan dalam variabel `gray_img`.\n",
    "\n",
    "Selanjutnya, gambar grayscale tersebut ditambahkan ke dalam list `data` menggunakan metode `append()`. Nama file tanpa ekstensi juga ditambahkan ke dalam list `file_name`.\n",
    "\n",
    "Setelah selesai melakukan iterasi pada semua file dalam setiap folder, kita akan memiliki list `data` yang berisi gambar-gambar dalam bentuk grayscale, dan list `file_name` yang berisi nama-nama file gambar tanpa ekstensi."
   ]
  },
  {
   "cell_type": "code",
   "execution_count": 8,
   "metadata": {},
   "outputs": [],
   "source": [
    "dataset2=[]\n",
    "for i in range(len(dataset)):\n",
    "    dataset2.append(dataset[i])"
   ]
  },
  {
   "attachments": {},
   "cell_type": "markdown",
   "metadata": {},
   "source": [
    "Code di atas memiliki fungsi untuk membuat salinan dari list `dataset` ke dalam list `dataset2`. Pertama, kita membuat sebuah list kosong `dataset2` yang akan digunakan untuk menyimpan salinan dari `dataset`.\n",
    "\n",
    "Selanjutnya, kita menggunakan loop `for` dengan `range(len(dataset))` untuk melakukan iterasi pada setiap elemen dalam `dataset`. Pada setiap iterasi, kita menggunakan metode `append()` untuk menambahkan elemen tersebut ke dalam `dataset2`. Dengan melakukan ini, kita secara efektif membuat salinan dari `dataset` ke `dataset2`.\n",
    "\n",
    "Setelah code dieksekusi, `dataset2` akan berisi elemen-elemen yang sama dengan `dataset`, sehingga kita memiliki dua list yang identik secara konten. Hal ini berguna jika kita ingin bekerja dengan dua list yang independen namun memiliki isi yang sama."
   ]
  },
  {
   "attachments": {},
   "cell_type": "markdown",
   "metadata": {},
   "source": [
    "## **Normalisasi Dan Resize Citra**"
   ]
  },
  {
   "cell_type": "code",
   "execution_count": 9,
   "metadata": {},
   "outputs": [],
   "source": [
    "def normalisasi(image):\n",
    "    min_val = np.min(image)\n",
    "    max_val = np.max(image)\n",
    "    \n",
    "    normalized_image = (image - min_val) / (max_val - min_val)\n",
    "    uint8_image = (normalized_image * 255).astype(np.uint8)\n",
    "    \n",
    "    return uint8_image"
   ]
  },
  {
   "attachments": {},
   "cell_type": "markdown",
   "metadata": {},
   "source": [
    "Code di atas mendefinisikan sebuah fungsi bernama `normalisasi` yang digunakan untuk melakukan normalisasi terhadap gambar. Fungsi ini menerima satu parameter `image`, yang merupakan gambar dalam bentuk numpy array.\n",
    "\n",
    "Di dalam fungsi, kita pertama-tama mencari nilai minimum dan maksimum dari gambar menggunakan fungsi `np.min()` dan `np.max()`. Ini dilakukan untuk mengetahui rentang nilai piksel dalam gambar.\n",
    "\n",
    "Selanjutnya, kita melakukan normalisasi pada gambar dengan mengurangi nilai minimum dari setiap piksel gambar, kemudian membaginya dengan selisih nilai maksimum dan minimum. Hal ini dilakukan untuk memastikan bahwa rentang nilai piksel menjadi antara 0 dan 1.\n",
    "\n",
    "Setelah normalisasi, kita ingin mengembalikan gambar dalam format 8-bit unsigned integer (uint8) agar sesuai dengan format gambar yang umum digunakan. Oleh karena itu, kita mengalikan gambar yang sudah dinormalisasi dengan 255 dan mengkonversinya menjadi tipe data uint8 menggunakan metode `.astype(np.uint8)`.\n",
    "\n",
    "Terakhir, kita mengembalikan gambar yang sudah dinormalisasi dan dikonversi menjadi tipe data uint8.\n",
    "\n",
    "Jadi, saat fungsi `normalisasi` dipanggil dengan parameter gambar, fungsi ini akan menghasilkan gambar yang telah dinormalisasi dan dikonversi menjadi format uint8."
   ]
  },
  {
   "cell_type": "code",
   "execution_count": 10,
   "metadata": {},
   "outputs": [],
   "source": [
    "for i in range(len(data)):\n",
    "    norm = normalisasi(data[i])\n",
    "    res = cv.resize(norm, (256, 256), interpolation=cv.INTER_NEAREST)\n",
    "    data[i] = res"
   ]
  },
  {
   "attachments": {},
   "cell_type": "markdown",
   "metadata": {},
   "source": [
    "Code di atas memiliki fungsi untuk melakukan normalisasi, resize, dan mengganti data gambar dalam list `data`. Pada setiap iterasi, gambar yang ada pada indeks `i` di normalisasi menggunakan fungsi `normalisasi()`. Selanjutnya, gambar yang telah dinormalisasi direzise menjadi ukuran 256x256 piksel menggunakan fungsi `cv.resize()` dengan metode interpolasi `cv.INTER_NEAREST`. \n",
    "\n",
    "Hasil resize tersebut disimpan dalam variabel `res` dan digantikan dengan gambar asli pada indeks `i` dalam list `data`. Proses ini dilakukan untuk setiap gambar dalam list `data`, sehingga setelah loop selesai dieksekusi, semua gambar dalam `data` telah dinormalisasi, direzise, dan data gambar yang awalnya ada di `data` telah diganti dengan gambar hasil resize."
   ]
  },
  {
   "attachments": {},
   "cell_type": "markdown",
   "metadata": {},
   "source": [
    "## **Mengekspor Gambar Hasil Normalisasi dan Resize Menjadi File ke Dalam Folder Dataset**"
   ]
  },
  {
   "cell_type": "code",
   "execution_count": 11,
   "metadata": {},
   "outputs": [],
   "source": [
    "savePath = \"dataset1/\"\n",
    "for i in range(len(data)):\n",
    "    save = savePath + file_name[i] + \".jpg\"\n",
    "    cv.imwrite(save, data[i])"
   ]
  },
  {
   "attachments": {},
   "cell_type": "markdown",
   "metadata": {},
   "source": [
    "Code di atas memiliki fungsi untuk menyimpan gambar-gambar dalam list `data` ke dalam folder `dataset1/` dengan format file .jpg. Pada setiap iterasi, path lengkap untuk menyimpan gambar dibentuk dengan menggabungkan `savePath`, nama file tanpa ekstensi, dan ekstensi .jpg. \n",
    "\n",
    "Selanjutnya, gambar disimpan ke path yang telah ditentukan menggunakan fungsi `cv.imwrite()`. Proses ini dilakukan untuk setiap gambar dalam list `data`, sehingga setelah loop selesai dieksekusi, semua gambar dalam list `data` telah disimpan ke dalam folder `dataset1/` dengan format file .jpg sesuai dengan nama file yang telah ditentukan."
   ]
  },
  {
   "attachments": {},
   "cell_type": "markdown",
   "metadata": {},
   "source": [
    "## **Mengatur Contrast Citra Dataset**"
   ]
  },
  {
   "cell_type": "code",
   "execution_count": 12,
   "metadata": {},
   "outputs": [],
   "source": [
    "def enhance_contrast(image, alpha, beta):\n",
    "    enhanced_image = np.clip(alpha * image + beta, 0, 255).astype(np.uint8)\n",
    "    return enhanced_image\n",
    "\n",
    "input_folder = \"dataset/\"\n",
    "output_folder = \"dataset_contrast/\"\n",
    "\n",
    "if not os.path.exists(output_folder):\n",
    "    os.makedirs(output_folder)\n",
    "\n",
    "alpha = 1.0  # Faktor kontras\n",
    "beta = 0  # Pergeseran intensitas\n",
    "\n",
    "for label in os.listdir(input_folder):\n",
    "    for filename in os.listdir(input_folder+'\\\\'+label):\n",
    "        image_path = os.path.join(input_folder+'\\\\'+label, filename)\n",
    "        image = cv.imread(image_path, cv.IMREAD_GRAYSCALE)\n",
    "        enhanced_image = enhance_contrast(image, alpha, beta)\n",
    "        output_path = os.path.join(output_folder, label+'_'+filename)\n",
    "        cv.imwrite(output_path, enhanced_image)\n"
   ]
  },
  {
   "attachments": {},
   "cell_type": "markdown",
   "metadata": {},
   "source": [
    "Code di atas mendefinisikan sebuah fungsi bernama `enhance_contrast` yang digunakan untuk meningkatkan kontras gambar. Fungsi ini menerima tiga parameter, yaitu `image` (gambar dalam bentuk array numpy), `alpha` (faktor kontras), dan `beta` (pergeseran intensitas).\n",
    "\n",
    "Di dalam fungsi, gambar diubah menggunakan formula kontras linier: `alpha * image + beta`. Kemudian, hasilnya dibatasi pada rentang 0 hingga 255 menggunakan `np.clip()`. Terakhir, gambar dikonversi menjadi tipe data `uint8` menggunakan `.astype(np.uint8)` agar sesuai dengan format gambar yang umum digunakan. Hasil yang telah ditingkatkan kontrasnya dikembalikan sebagai output fungsi.\n",
    "\n",
    "Selanjutnya, kita mendefinisikan path folder input dan output. Jika folder output belum ada, maka folder tersebut akan dibuat menggunakan `os.makedirs()`. Selanjutnya, kita memiliki variabel `alpha` dan `beta` yang digunakan sebagai parameter untuk meningkatkan kontras gambar.\n",
    "\n",
    "Dilakukan iterasi pada setiap label (folder) dalam folder input menggunakan loop `for`. Di dalam loop tersebut, dilakukan iterasi pada setiap file dalam setiap label. Dalam setiap iterasi, dibentuk path lengkap untuk membaca gambar dengan menggabungkan input_folder, label, dan filename menggunakan `os.path.join()`. Gambar dibaca menggunakan `cv.imread()` dalam mode grayscale.\n",
    "\n",
    "Selanjutnya, gambar tersebut ditingkatkan kontrasnya menggunakan fungsi `enhance_contrast()` yang telah didefinisikan sebelumnya dengan menggunakan nilai alpha dan beta yang telah ditentukan. Hasil gambar yang ditingkatkan kontrasnya disimpan dalam variabel `enhanced_image`.\n",
    "\n",
    "Kemudian, dibentuk path lengkap untuk menyimpan gambar hasil peningkatan kontras dengan menggabungkan output_folder, label, dan filename yang telah ditambahkan prefix label dan underscore menggunakan `os.path.join()`. Gambar hasil ditingkatkan kontras disimpan menggunakan `cv.imwrite()`.\n",
    "\n",
    "Proses ini dilakukan untuk setiap gambar dalam folder input, sehingga setelah loop selesai dieksekusi, semua gambar dalam folder input telah ditingkatkan kontrasnya dan disimpan ke dalam folder output dengan nama file yang telah ditentukan."
   ]
  },
  {
   "attachments": {},
   "cell_type": "markdown",
   "metadata": {},
   "source": [
    "## **Melakukan Deteksi Tepi Menggunakan Sobel**"
   ]
  },
  {
   "cell_type": "code",
   "execution_count": 15,
   "metadata": {},
   "outputs": [],
   "source": [
    "input_folder = \"dataset_contrast\"\n",
    "output_folder = \"dataset_edges\"\n",
    "\n",
    "if not os.path.exists(output_folder):\n",
    "    os.makedirs(output_folder)\n",
    "\n",
    "for filename in os.listdir(input_folder):\n",
    "    image_path = os.path.join(input_folder, filename)\n",
    "    image = cv.imread(image_path, cv.IMREAD_GRAYSCALE)\n",
    "\n",
    "    sobel_x = cv.Sobel(image, cv.CV_64F, 1, 0, ksize=3)\n",
    "    sobel_y = cv.Sobel(image, cv.CV_64F, 0, 1, ksize=3)\n",
    "\n",
    "    edges = np.sqrt(sobel_x**2 + sobel_y**2).astype(np.uint8)\n",
    "\n",
    "    output_path = os.path.join(output_folder, \"edges_\" + filename)\n",
    "    cv.imwrite(output_path, edges)\n"
   ]
  },
  {
   "attachments": {},
   "cell_type": "markdown",
   "metadata": {},
   "source": [
    "Code di atas memiliki tujuan untuk menghasilkan tepi (edges) dari gambar-gambar yang terdapat dalam folder `dataset_contrast` dan menyimpan hasilnya ke dalam folder `dataset_edges`. Pertama, kita mendefinisikan path folder input dan output. Jika folder output belum ada, maka folder tersebut akan dibuat menggunakan `os.makedirs()`.\n",
    "\n",
    "Selanjutnya, dilakukan iterasi pada setiap file dalam folder input. Dalam setiap iterasi, kita membentuk path lengkap untuk membaca gambar dengan menggabungkan `input_folder` dan `filename` menggunakan `os.path.join()`. Gambar tersebut dibaca menggunakan `cv.imread()` dengan mode grayscale.\n",
    "\n",
    "Selanjutnya, kita menggunakan operator Sobel untuk mendeteksi tepi pada gambar. Operator Sobel diterapkan pada sumbu x dan sumbu y menggunakan fungsi `cv.Sobel()`. Hasilnya disimpan dalam `sobel_x` dan `sobel_y`.\n",
    "\n",
    "Kemudian, kita menghitung magnitudo tepi dengan menggunakan formula Euclidean distance dari hasil Sobel pada sumbu x dan sumbu y menggunakan `np.sqrt(sobel_x**2 + sobel_y**2)`. Hasil magnitudo tepi diubah menjadi tipe data `uint8` menggunakan `.astype(np.uint8)`.\n",
    "\n",
    "Selanjutnya, kita membentuk path lengkap untuk menyimpan hasil tepi dengan menggabungkan `output_folder` dan prefix \"edges_\" dengan `filename` menggunakan `os.path.join()`. Gambar hasil tepi disimpan menggunakan `cv.imwrite()`.\n",
    "\n",
    "Proses ini dilakukan untuk setiap gambar dalam folder input, sehingga setelah loop selesai dieksekusi, semua gambar dalam folder input telah diolah untuk menghasilkan tepi dan disimpan ke dalam folder output dengan nama file yang telah ditentukan."
   ]
  },
  {
   "attachments": {},
   "cell_type": "markdown",
   "metadata": {},
   "source": [
    "## **Melakukan Morfologi Citra (Closing) pada Citra Dataset**"
   ]
  },
  {
   "cell_type": "code",
   "execution_count": 22,
   "metadata": {},
   "outputs": [],
   "source": [
    "input_folder = \"dataset_edges/\"\n",
    "output_folder = \"dataset_closed/\"\n",
    "\n",
    "if not os.path.exists(output_folder):\n",
    "    os.makedirs(output_folder)\n",
    "\n",
    "for filename in os.listdir(input_folder):\n",
    "    image_path = os.path.join(input_folder, filename)\n",
    "    image = cv.imread(image_path, cv.IMREAD_GRAYSCALE)\n",
    "\n",
    "    kernel = cv.getStructuringElement(cv.MORPH_RECT, (5, 5))\n",
    "    closed_image = cv.morphologyEx(image, cv.MORPH_CLOSE, kernel)\n",
    "\n",
    "    output_path = os.path.join(output_folder, \"closed_\" + filename)\n",
    "    cv.imwrite(output_path, closed_image)\n"
   ]
  },
  {
   "attachments": {},
   "cell_type": "markdown",
   "metadata": {},
   "source": [
    "Code di atas memiliki tujuan untuk melakukan operasi penutupan (closing) pada gambar-gambar yang terdapat dalam folder `dataset_edges` dan menyimpan hasilnya ke dalam folder `dataset_closed`.Pertama, kita mendefinisikan path folder input dan output. Jika folder output belum ada, maka folder tersebut akan dibuat menggunakan `os.makedirs()`.\n",
    "\n",
    "Selanjutnya, dilakukan iterasi pada setiap file dalam folder input. Dalam setiap iterasi, kita membentuk path lengkap untuk membaca gambar dengan menggabungkan `input_folder` dan `filename` menggunakan `os.path.join()`. Gambar tersebut dibaca menggunakan `cv.imread()` dengan mode grayscale.\n",
    "\n",
    "Selanjutnya, kita menggunakan `cv.getStructuringElement()` untuk mendefinisikan kernel berbentuk persegi dengan ukuran 5x5 yang digunakan dalam operasi morfologi penutupan. Kernel ini akan digunakan untuk memperhalus tepi pada gambar.\n",
    "\n",
    "Kemudian, kita melakukan operasi penutupan pada gambar menggunakan `cv.morphologyEx()` dengan mode `cv.MORPH_CLOSE` dan kernel yang telah didefinisikan sebelumnya. Hasil gambar penutupan disimpan dalam `closed_image`. Selanjutnya, kita membentuk path lengkap untuk menyimpan hasil gambar penutupan dengan menggabungkan `output_folder` dan prefix \"closed_\" dengan `filename` menggunakan `os.path.join()`. Gambar hasil penutupan disimpan menggunakan `cv.imwrite()`.\n",
    "\n",
    "Proses ini dilakukan untuk setiap gambar dalam folder input, sehingga setelah loop selesai dieksekusi, semua gambar dalam folder input telah diolah dengan operasi penutupan dan disimpan ke dalam folder output dengan nama file yang telah ditentukan."
   ]
  }
 ],
 "metadata": {
  "kernelspec": {
   "display_name": "Python 3.10.9 64-bit",
   "language": "python",
   "name": "python3"
  },
  "language_info": {
   "codemirror_mode": {
    "name": "ipython",
    "version": 3
   },
   "file_extension": ".py",
   "mimetype": "text/x-python",
   "name": "python",
   "nbconvert_exporter": "python",
   "pygments_lexer": "ipython3",
   "version": "3.10.2"
  },
  "orig_nbformat": 4,
  "vscode": {
   "interpreter": {
    "hash": "26de051ba29f2982a8de78e945f0abaf191376122a1563185a90213a26c5da77"
   }
  }
 },
 "nbformat": 4,
 "nbformat_minor": 2
}
