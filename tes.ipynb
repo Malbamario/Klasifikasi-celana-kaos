{
 "cells": [
  {
   "cell_type": "code",
   "execution_count": 15,
   "metadata": {},
   "outputs": [],
   "source": [
    "from matplotlib import pyplot as plt\n",
    "import cv2 as cv\n",
    "import numpy as np\n",
    "import math\n",
    "import os\n",
    "import csv"
   ]
  },
  {
   "cell_type": "code",
   "execution_count": null,
   "metadata": {},
   "outputs": [],
   "source": [
    "def threshold(img):\n",
    "    result = np.zeros(img.shape)\n",
    "    for y in range(img.shape[0]):\n",
    "        for x in range(img.shape[1]):\n",
    "            if img[y,x]>128: result[y,x]=1\n",
    "    return result"
   ]
  },
  {
   "cell_type": "code",
   "execution_count": 16,
   "metadata": {},
   "outputs": [],
   "source": [
    "labels = ['celana_panjang', 'celana_pendek', 'Kaos']\n",
    "imgPerLabels = 200\n",
    "orientation = [0, 45, 90, 135]\n",
    "datasets = {}\n",
    "input_folder = 'dataset_closed/'\n",
    "\n",
    "for j in range(len(labels)):\n",
    "    datasets[labels[j]] = np.empty((imgPerLabels, 256, 256))\n",
    "    count=0\n",
    "        # if os.path.isdir(labels[j]+\"\\\\\"+str(imgindex)):\n",
    "    for filename in os.listdir(input_folder):\n",
    "        if(labels[j] in filename):\n",
    "            img_path = os.path.join(input_folder, filename)\n",
    "            img = cv.cvtColor(cv.resize(cv.imread(img_path), (256, 256)), cv.COLOR_BGR2GRAY)\n",
    "            datasets[labels[j]][count] = img\n",
    "            count+=1\n",
    "            datasets[labels[j]][count] = cv.rotate(img, cv.ROTATE_180)\n",
    "            count+=1\n",
    "        if count==imgPerLabels: break"
   ]
  },
  {
   "cell_type": "code",
   "execution_count": 17,
   "metadata": {},
   "outputs": [
    {
     "name": "stdout",
     "output_type": "stream",
     "text": [
      "celana_panjang\n",
      "celana_panjang\n",
      "celana_pendek\n",
      "celana_pendek\n",
      "Kaos\n",
      "Kaos\n"
     ]
    }
   ],
   "source": [
    "def getGlcm(datasets:np.ndarray, ori:np.ndarray[int, int], dist=1):\n",
    "    result = {}\n",
    "    \n",
    "    for i in datasets:\n",
    "        print(i)\n",
    "        label = []\n",
    "        for j in range(len(datasets[i])):\n",
    "            img:np.ndarray = datasets[i][j]\n",
    "            imgGlcm = {}\n",
    "            for k in range(len(ori)):\n",
    "                (iH, iW) = img.shape[:2]\n",
    "                matriks = np.zeros((256, 256), float)\n",
    "                startX = startY = 0\n",
    "                endX = iW\n",
    "                endY = iH\n",
    "                \n",
    "                if ori[k]==0: endX=iW-dist\n",
    "                elif ori[k]==90: startY=dist\n",
    "                elif ori[k]==45:\n",
    "                    startY=dist\n",
    "                    endX=iW-dist\n",
    "                elif ori[k]==135:\n",
    "                    startY=startX=dist\n",
    "                \n",
    "                for y in range(startY, endY):\n",
    "                    for x in range(startX, endX):\n",
    "                        if ori[k]==0: matriks[int(img[y,x]), int(img[y,x+dist])] =+ 1\n",
    "                        elif ori[k]==90: matriks[int(img[y,x]), int(img[y-dist,x])] =+ 1\n",
    "                        elif ori[k]==45: matriks[int(img[y,x]), int(img[y-dist,x+dist])] =+ 1\n",
    "                        elif ori[k]==135: matriks[int(img[y,x]), int(img[y-dist,x-dist])] =+ 1\n",
    "\n",
    "                matriks +=matriks.transpose()\n",
    "                summary = np.sum(matriks)\n",
    "                matriks /= summary\n",
    "                # for y in range(matriks.shape[0]):\n",
    "                #     for x in range(matriks.shape[1]):\n",
    "                #         if matriks[y,x] != 0: matriks[y,x] /= summary\n",
    "                \n",
    "                imgGlcm[orientation[k]] = matriks\n",
    "            label.append(imgGlcm)\n",
    "        result[i] = label\n",
    "        print(i)\n",
    "    return result\n",
    "\n",
    "glcm = getGlcm(datasets, orientation)"
   ]
  },
  {
   "cell_type": "code",
   "execution_count": 18,
   "metadata": {},
   "outputs": [],
   "source": [
    "def getFeature(glcm:dict[int, dict[int, np.ndarray]], features:list[str]=['contrast', 'dissimiliarity', 'homogeneity', 'entropy', 'asm', 'corellation', 'energy']):\n",
    "    \n",
    "    result = []\n",
    "    for i in glcm.keys():\n",
    "        for j in range(len(glcm[i])):\n",
    "            imgFeatures = {}\n",
    "            for k in glcm[i][j].keys():\n",
    "                matriks = glcm[i][j][k]\n",
    "                \n",
    "                fitur = {f'contrast{k}':0.0, \n",
    "                            f'dissimiliarity{k}':0.0, \n",
    "                            f'homogeneity{k}':0.0, \n",
    "                            f'entropy{k}':0.0, \n",
    "                            f'asm{k}':0.0, \n",
    "                            f'corellation{k}':0.0, \n",
    "                            f'energy{k}':0.0}\n",
    "                \n",
    "                meanY = np.mean(matriks)\n",
    "                meanX = np.mean(matriks.transpose())\n",
    "                \n",
    "                for y in range(256):\n",
    "                    for x in range(256):\n",
    "                        if matriks[y,x]==0.0: continue\n",
    "                        if \"contrast\" in features: fitur[f\"contrast{k}\"] += matriks[y,x]*math.pow(y-x, 2)\n",
    "                        if \"dissimiliarity\" in features: fitur[f\"dissimiliarity{k}\"] += matriks[y,x]*abs(y-x)\n",
    "                        if \"homogeneity\" in features: fitur[f\"homogeneity{k}\"] += matriks[y,x]/(1+math.pow(y-x, 2))\n",
    "                        if \"entropy\" in features: fitur[f\"entropy{k}\"] -= matriks[y,x]*math.log10(matriks[y,x])\n",
    "                        if \"asm\" in features: fitur[f\"asm{k}\"] += math.pow(matriks[y,x], 2)\n",
    "                \n",
    "                if \"corellation\" in features:\n",
    "                    stdX = np.std(matriks)\n",
    "                    stdY = np.std(matriks.transpose())\n",
    "                    if stdX != 0 and stdY != 0: fitur[f\"corellation{k}\"] = (- (meanX * meanY)) / (stdX * stdY)\n",
    "                if 'energy' in features: fitur[f'energy{k}'] = math.sqrt(fitur[f\"asm{k}\"])\n",
    "                \n",
    "                for l in fitur:\n",
    "                    imgFeatures[l] = fitur[l]\n",
    "            \n",
    "            imgFeatures['label'] = i        \n",
    "            result.append(imgFeatures)\n",
    "    return result\n",
    "features = getFeature(glcm)"
   ]
  },
  {
   "cell_type": "code",
   "execution_count": 19,
   "metadata": {},
   "outputs": [],
   "source": [
    "header = []\n",
    "\n",
    "for head in features[0].keys():\n",
    "    header.append(head)\n",
    "\n",
    "with open('Features.csv', 'w', newline='') as f:\n",
    "    writer = csv.DictWriter(f, fieldnames=header)\n",
    "    writer.writeheader()\n",
    "    writer.writerows(features)"
   ]
  }
 ],
 "metadata": {
  "kernelspec": {
   "display_name": "Python 3",
   "language": "python",
   "name": "python3"
  },
  "language_info": {
   "codemirror_mode": {
    "name": "ipython",
    "version": 3
   },
   "file_extension": ".py",
   "mimetype": "text/x-python",
   "name": "python",
   "nbconvert_exporter": "python",
   "pygments_lexer": "ipython3",
   "version": "3.9.0"
  },
  "orig_nbformat": 4
 },
 "nbformat": 4,
 "nbformat_minor": 2
}
