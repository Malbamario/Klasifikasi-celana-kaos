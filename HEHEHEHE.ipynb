{
 "cells": [
  {
   "attachments": {},
   "cell_type": "markdown",
   "metadata": {},
   "source": [
    "# **Modul 8 Ekstraksi Ciri**"
   ]
  },
  {
   "attachments": {},
   "cell_type": "markdown",
   "metadata": {},
   "source": [
    "## **Mengimport Library yang dibutuhkan**"
   ]
  },
  {
   "cell_type": "code",
   "execution_count": 2,
   "metadata": {},
   "outputs": [],
   "source": [
    "import cv2 as cv\n",
    "import numpy as np\n",
    "import matplotlib.pyplot as plt\n",
    "import os\n",
    "import pandas as pd\n",
    "import seaborn as sns"
   ]
  },
  {
   "attachments": {},
   "cell_type": "markdown",
   "metadata": {},
   "source": [
    "## **Membaca Path dan Mengimport Gambar Yang Akan Diolah dan Mengkonversi ke Grayscale**"
   ]
  },
  {
   "cell_type": "code",
   "execution_count": 18,
   "metadata": {},
   "outputs": [],
   "source": [
    "folders = [\n",
    "    \"dataset/Kaos/\", \n",
    "    \"dataset/celana_panjang/\", \n",
    "    \"dataset/celana_pendek/\",\n",
    "    ]\n",
    "data = []\n",
    "file_name=[]\n",
    "for folder in folders:\n",
    "    dataset = os.listdir(folder)\n",
    "    for file in dataset:\n",
    "        img_path = os.path.join(folder, file)\n",
    "        name = os.path.splitext(file)[0]\n",
    "        temp = cv.imread(img_path)\n",
    "        gray_img = cv.cvtColor(temp, cv.COLOR_BGR2GRAY)\n",
    "        data.append(gray_img)\n",
    "        file_name.append(name)"
   ]
  },
  {
   "cell_type": "code",
   "execution_count": 19,
   "metadata": {},
   "outputs": [],
   "source": [
    "dataset2=[]\n",
    "for i in range(len(dataset)):\n",
    "    dataset2.append(dataset[i])"
   ]
  },
  {
   "attachments": {},
   "cell_type": "markdown",
   "metadata": {},
   "source": [
    "## **Normalisasi Dan Resize Citra**"
   ]
  },
  {
   "cell_type": "code",
   "execution_count": 20,
   "metadata": {},
   "outputs": [],
   "source": [
    "def normalisasi(image):\n",
    "    min_val = np.min(image)\n",
    "    max_val = np.max(image)\n",
    "    \n",
    "    normalized_image = (image - min_val) / (max_val - min_val)\n",
    "    uint8_image = (normalized_image * 255).astype(np.uint8)\n",
    "    \n",
    "    return uint8_image"
   ]
  },
  {
   "cell_type": "code",
   "execution_count": 21,
   "metadata": {},
   "outputs": [],
   "source": [
    "for i in range(len(data)):\n",
    "    norm = normalisasi(data[i])\n",
    "    res = cv.resize(norm, (256, 256), interpolation=cv.INTER_NEAREST)\n",
    "    data[i] = res"
   ]
  },
  {
   "attachments": {},
   "cell_type": "markdown",
   "metadata": {},
   "source": [
    "## **Mengekspor Gambar Hasil Normalisasi dan Resize Menjadi File ke Dalam Folder Dataset**"
   ]
  },
  {
   "cell_type": "code",
   "execution_count": 22,
   "metadata": {},
   "outputs": [],
   "source": [
    "savePath = \"dataset1/\"\n",
    "for i in range(len(data)):\n",
    "    save = savePath + file_name[i] + \".jpg\"\n",
    "    cv.imwrite(save, data[i])"
   ]
  },
  {
   "attachments": {},
   "cell_type": "markdown",
   "metadata": {},
   "source": [
    "## **Mengekspor Gambar Hasil Normalisasi dan Resize Menjadi File ke Dalam Folder Dataset**"
   ]
  },
  {
   "cell_type": "code",
   "execution_count": 25,
   "metadata": {},
   "outputs": [],
   "source": [
    "def enhance_contrast(image, alpha, beta):\n",
    "    enhanced_image = np.clip(alpha * image + beta, 0, 255).astype(np.uint8)\n",
    "    return enhanced_image\n",
    "\n",
    "input_folder = \"dataset/\"\n",
    "output_folder = \"dataset_contrast/\"\n",
    "\n",
    "if not os.path.exists(output_folder):\n",
    "    os.makedirs(output_folder)\n",
    "\n",
    "alpha = 1.0  # Faktor kontras\n",
    "beta = 0  # Pergeseran intensitas\n",
    "\n",
    "for label in os.listdir(input_folder):\n",
    "    for filename in os.listdir(input_folder+'\\\\'+label):\n",
    "        image_path = os.path.join(input_folder+'\\\\'+label, filename)\n",
    "        image = cv.imread(image_path, cv.IMREAD_GRAYSCALE)\n",
    "        enhanced_image = enhance_contrast(image, alpha, beta)\n",
    "        output_path = os.path.join(output_folder, label+'_'+filename)\n",
    "        cv.imwrite(output_path, enhanced_image)\n"
   ]
  },
  {
   "attachments": {},
   "cell_type": "markdown",
   "metadata": {},
   "source": []
  },
  {
   "cell_type": "code",
   "execution_count": 26,
   "metadata": {},
   "outputs": [],
   "source": [
    "# Mengambil path citra yang akan dideteksi tepi\n",
    "input_folder = \"dataset_contrast\"\n",
    "output_folder = \"dataset_edges\"\n",
    "\n",
    "if not os.path.exists(output_folder):\n",
    "    os.makedirs(output_folder)\n",
    "\n",
    "# Melakukan deteksi tepi menggunakan operator Sobel pada setiap citra dalam folder input\n",
    "for filename in os.listdir(input_folder):\n",
    "    image_path = os.path.join(input_folder, filename)\n",
    "    image = cv.imread(image_path, cv.IMREAD_GRAYSCALE)\n",
    "\n",
    "    # Menggunakan operator Sobel untuk mendeteksi tepi horizontal dan vertikal\n",
    "    sobel_x = cv.Sobel(image, cv.CV_64F, 1, 0, ksize=3)\n",
    "    sobel_y = cv.Sobel(image, cv.CV_64F, 0, 1, ksize=3)\n",
    "\n",
    "    # Menghitung magnitudo gradien menggunakan metode Euclidean distance\n",
    "    edges = np.sqrt(sobel_x**2 + sobel_y**2).astype(np.uint8)\n",
    "\n",
    "    output_path = os.path.join(output_folder, \"edges_\" + filename)\n",
    "    cv.imwrite(output_path, edges)\n"
   ]
  },
  {
   "cell_type": "code",
   "execution_count": 3,
   "metadata": {},
   "outputs": [
    {
     "name": "stdout",
     "output_type": "stream",
     "text": [
      "255\n"
     ]
    }
   ],
   "source": [
    "input_folder = \"dataset_edges/\"\n",
    "output_folder = \"dataset_closed/\"\n",
    "\n",
    "if not os.path.exists(output_folder):\n",
    "    os.makedirs(output_folder)\n",
    "count=0\n",
    "# Melakukan operasi closing pada setiap citra hasil deteksi tepi dalam folder input\n",
    "for filename in os.listdir(input_folder):\n",
    "    image_path = os.path.join(input_folder, filename)\n",
    "    image = cv.imread(image_path, cv.IMREAD_GRAYSCALE)\n",
    "\n",
    "    # Menggunakan operasi morphological closing untuk menutup celah pada tepi\n",
    "    kernel = cv.getStructuringElement(cv.MORPH_RECT, (5, 5))  # Sesuaikan ukuran kernel\n",
    "    closed_image = cv.morphologyEx(image, cv.MORPH_CLOSE, kernel)\n",
    "    if count==0:\n",
    "        print(np.max(closed_image))\n",
    "        break\n",
    "    output_path = os.path.join(output_folder, \"closed_\" + filename)\n",
    "    # cv.imwrite(output_path, closed_image)\n"
   ]
  },
  {
   "cell_type": "code",
   "execution_count": null,
   "metadata": {},
   "outputs": [],
   "source": []
  }
 ],
 "metadata": {
  "kernelspec": {
   "display_name": "Python 3.10.9 64-bit",
   "language": "python",
   "name": "python3"
  },
  "language_info": {
   "codemirror_mode": {
    "name": "ipython",
    "version": 3
   },
   "file_extension": ".py",
   "mimetype": "text/x-python",
   "name": "python",
   "nbconvert_exporter": "python",
   "pygments_lexer": "ipython3",
   "version": "3.9.0"
  },
  "orig_nbformat": 4,
  "vscode": {
   "interpreter": {
    "hash": "26de051ba29f2982a8de78e945f0abaf191376122a1563185a90213a26c5da77"
   }
  }
 },
 "nbformat": 4,
 "nbformat_minor": 2
}
