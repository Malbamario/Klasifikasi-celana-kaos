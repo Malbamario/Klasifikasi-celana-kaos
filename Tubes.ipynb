{
  "cells": [
    {
      "cell_type": "code",
      "execution_count": null,
      "metadata": {
        "id": "XuEXhBSUpKqo"
      },
      "outputs": [],
      "source": [
        "# from google.colab import drive\n",
        "# drive.mount('/content/gdrive', force_remount=True)\n",
        "%cd sample_data\n",
        "# !unzip newRespon_PCD.zip\n",
        "# import shutil\n",
        "# import os\n",
        "# print(os.getcwd())\n",
        "# shutil.rmtree('/content/sample_data/dataset_closed')"
      ]
    },
    {
      "cell_type": "code",
      "execution_count": 3,
      "metadata": {
        "id": "LNsdsjTSL48H"
      },
      "outputs": [],
      "source": [
        "from matplotlib import pyplot as plt\n",
        "import cv2 as cv\n",
        "import numpy as np\n",
        "import math\n",
        "import os\n",
        "import csv"
      ]
    },
    {
      "cell_type": "code",
      "execution_count": 4,
      "metadata": {
        "id": "bDULCv_OMfze"
      },
      "outputs": [],
      "source": [
        "labels = ['celana_panjang', 'celana_pendek', 'Kaos']\n",
        "imgPerLabels = 160\n",
        "orientation = [0, 45, 90, 135]\n",
        "datasets = {}\n",
        "input_folder = ['dataset1/', 'dataset_closed/']\n",
        "\n",
        "for i in range(len(labels)):\n",
        "        # if os.path.isdir(labels[j]+\"\\\\\"+str(imgindex)):\n",
        "    datasets[labels[i]] = np.empty((imgPerLabels, len(input_folder), 256, 256))\n",
        "    for j in range(len(input_folder)):\n",
        "        count=0\n",
        "        for filename in os.listdir(input_folder[j]):\n",
        "            if(labels[i] in filename):\n",
        "                img_path = os.path.join(input_folder[j], filename)\n",
        "                img = cv.cvtColor(cv.imread(img_path), cv.COLOR_BGR2GRAY)\n",
        "                datasets[labels[i]][count][j] = img\n",
        "                count+=1"
      ]
    },
    {
      "cell_type": "code",
      "execution_count": 5,
      "metadata": {
        "id": "9rXGfwxcsWIP"
      },
      "outputs": [],
      "source": [
        "def getGlcm(datasets:np.ndarray, ori:np.ndarray[int, int], dist=1):\n",
        "    result = {}\n",
        "\n",
        "    for i in datasets:\n",
        "        label = []\n",
        "        for j in range(len(datasets[i])):\n",
        "            imgs = []\n",
        "            for k in range(len(datasets[i][j])):\n",
        "                img:np.ndarray = datasets[i][j][k]\n",
        "                imgGlcm = {}\n",
        "                for l in range(len(ori)):\n",
        "                    (iH, iW) = img.shape[:2]\n",
        "                    matriks = np.zeros((256, 256), float)\n",
        "                    startX = startY = 0\n",
        "                    endX = iW\n",
        "                    endY = iH\n",
        "\n",
        "                    if ori[l]==0: endX=iW-dist\n",
        "                    elif ori[l]==90: startY=dist\n",
        "                    elif ori[l]==45:\n",
        "                        startY=dist\n",
        "                        endX=iW-dist\n",
        "                    elif ori[l]==135:\n",
        "                        startY=startX=dist\n",
        "\n",
        "                    for y in range(startY, endY):\n",
        "                        for x in range(startX, endX):\n",
        "                            if ori[l]==0: matriks[int(img[y,x]), int(img[y,x+dist])] =+ 1\n",
        "                            elif ori[l]==90: matriks[int(img[y,x]), int(img[y-dist,x])] =+ 1\n",
        "                            elif ori[l]==45: matriks[int(img[y,x]), int(img[y-dist,x+dist])] =+ 1\n",
        "                            elif ori[l]==135: matriks[int(img[y,x]), int(img[y-dist,x-dist])] =+ 1\n",
        "\n",
        "                    matriks +=matriks.transpose()\n",
        "                    summary = np.sum(matriks)\n",
        "                    matriks /= summary\n",
        "                    # for y in range(matriks.shape[0]):\n",
        "                    #     for x in range(matriks.shape[1]):\n",
        "                    #         if matriks[y,x] != 0: matriks[y,x] /= summary\n",
        "\n",
        "                    imgGlcm[orientation[l]] = matriks\n",
        "                imgs.append(imgGlcm)\n",
        "            label.append(imgs)\n",
        "        result[i] = label\n",
        "    return result"
      ]
    },
    {
      "cell_type": "code",
      "execution_count": 6,
      "metadata": {
        "colab": {
          "base_uri": "https://localhost:8080/",
          "height": 339
        },
        "id": "nmmJznLzmqYI",
        "outputId": "93d7361f-7a70-4d2a-fe6f-003633e66d75"
      },
      "outputs": [],
      "source": [
        "glcm = getGlcm(datasets, orientation)"
      ]
    },
    {
      "cell_type": "code",
      "execution_count": 7,
      "metadata": {
        "id": "drIqOSUSsY4S"
      },
      "outputs": [],
      "source": [
        "def getFeature(glcm:dict[int, dict[int, np.ndarray]], features:list[str]=['contrast', 'dissimiliarity', 'homogeneity', 'entropy', 'asm', 'corellation', 'energy']):\n",
        "\n",
        "    result = []\n",
        "    for i in glcm.keys():\n",
        "        for j in range(len(glcm[i])):\n",
        "            imgFeatures = {}\n",
        "            for k in range(len(glcm[i][j])):\n",
        "              for l in glcm[i][j][k].keys():\n",
        "                matriks = glcm[i][j][k][l]\n",
        "\n",
        "                fitur = {f\"contrast{l}_{k}\":0.0,\n",
        "                            f\"dissimiliarity{l}_{k}\":0.0,\n",
        "                            f\"homogeneity{l}_{k}\":0.0,\n",
        "                            f\"entropy{l}_{k}\":0.0,\n",
        "                            f\"asm{l}_{k}\":0.0,\n",
        "                            f\"corellation{l}_{k}\":0.0,\n",
        "                            f\"energy{l}_{k}\":0.0}\n",
        "\n",
        "                meanY = np.mean(matriks)\n",
        "                meanX = np.mean(matriks.transpose())\n",
        "\n",
        "                for y in range(256):\n",
        "                    for x in range(256):\n",
        "                        if matriks[y,x]==0.0: continue\n",
        "                        if \"contrast\" in features: fitur[f\"contrast{l}_{k}\"] += matriks[y,x]*math.pow(y-x, 2)\n",
        "                        if \"dissimiliarity\" in features: fitur[f\"dissimiliarity{l}_{k}\"] += matriks[y,x]*abs(y-x)\n",
        "                        if \"homogeneity\" in features: fitur[f\"homogeneity{l}_{k}\"] += matriks[y,x]/(1+math.pow(y-x, 2))\n",
        "                        if \"entropy\" in features: fitur[f\"entropy{l}_{k}\"] -= matriks[y,x]*math.log10(matriks[y,x])\n",
        "                        if \"asm\" in features: fitur[f\"asm{l}_{k}\"] += math.pow(matriks[y,x], 2)\n",
        "\n",
        "                if \"corellation\" in features:\n",
        "                    stdX = np.std(matriks)\n",
        "                    stdY = np.std(matriks.transpose())\n",
        "                    if stdX != 0 and stdY != 0: fitur[f\"corellation{l}_{k}\"] = (- (meanX * meanY)) / (stdX * stdY)\n",
        "                if 'energy' in features: fitur[f\"energy{l}_{k}\"] = math.sqrt(fitur[f\"asm{l}_{k}\"])\n",
        "\n",
        "                for m in fitur:\n",
        "                    imgFeatures[m] = fitur[m]\n",
        "\n",
        "            imgFeatures['label'] = i\n",
        "            result.append(imgFeatures)\n",
        "    return result"
      ]
    },
    {
      "cell_type": "code",
      "execution_count": 8,
      "metadata": {
        "id": "565raE1Om5Nf"
      },
      "outputs": [],
      "source": [
        "features = getFeature(glcm)"
      ]
    },
    {
      "cell_type": "code",
      "execution_count": 9,
      "metadata": {
        "id": "DeiQC98TsbRb"
      },
      "outputs": [],
      "source": [
        "header = []\n",
        "\n",
        "for head in features[0].keys():\n",
        "    header.append(head)\n",
        "\n",
        "with open('Features.csv', 'w', newline='') as f:\n",
        "    writer = csv.DictWriter(f, fieldnames=header)\n",
        "    writer.writeheader()\n",
        "    writer.writerows(features)"
      ]
    },
    {
      "cell_type": "markdown",
      "metadata": {
        "id": "LzbBxgPdtwli"
      },
      "source": [
        "# Klasifikasi"
      ]
    },
    {
      "cell_type": "code",
      "execution_count": 10,
      "metadata": {
        "id": "kprLWEWft14z"
      },
      "outputs": [],
      "source": [
        "import pandas as pd\n",
        "import seaborn as sb"
      ]
    },
    {
      "cell_type": "code",
      "execution_count": 11,
      "metadata": {
        "id": "_X-3wRBmt2tY"
      },
      "outputs": [],
      "source": [
        "df = pd.read_csv('Features.csv')"
      ]
    },
    {
      "cell_type": "code",
      "execution_count": 12,
      "metadata": {
        "id": "nSMuMpe_t4M_"
      },
      "outputs": [
        {
          "data": {
            "text/html": [
              "<div>\n",
              "<style scoped>\n",
              "    .dataframe tbody tr th:only-of-type {\n",
              "        vertical-align: middle;\n",
              "    }\n",
              "\n",
              "    .dataframe tbody tr th {\n",
              "        vertical-align: top;\n",
              "    }\n",
              "\n",
              "    .dataframe thead th {\n",
              "        text-align: right;\n",
              "    }\n",
              "</style>\n",
              "<table border=\"1\" class=\"dataframe\">\n",
              "  <thead>\n",
              "    <tr style=\"text-align: right;\">\n",
              "      <th></th>\n",
              "      <th>contrast0_0</th>\n",
              "      <th>dissimiliarity0_0</th>\n",
              "      <th>homogeneity0_0</th>\n",
              "      <th>entropy0_0</th>\n",
              "      <th>asm0_0</th>\n",
              "      <th>corellation0_0</th>\n",
              "      <th>energy0_0</th>\n",
              "      <th>contrast45_0</th>\n",
              "      <th>dissimiliarity45_0</th>\n",
              "      <th>homogeneity45_0</th>\n",
              "      <th>...</th>\n",
              "      <th>corellation90_2</th>\n",
              "      <th>energy90_2</th>\n",
              "      <th>contrast135_2</th>\n",
              "      <th>dissimiliarity135_2</th>\n",
              "      <th>homogeneity135_2</th>\n",
              "      <th>entropy135_2</th>\n",
              "      <th>asm135_2</th>\n",
              "      <th>corellation135_2</th>\n",
              "      <th>energy135_2</th>\n",
              "      <th>label</th>\n",
              "    </tr>\n",
              "  </thead>\n",
              "  <tbody>\n",
              "    <tr>\n",
              "      <th>0</th>\n",
              "      <td>2050.086834</td>\n",
              "      <td>27.311805</td>\n",
              "      <td>0.073337</td>\n",
              "      <td>4.097881</td>\n",
              "      <td>0.000084</td>\n",
              "      <td>-0.220543</td>\n",
              "      <td>0.009189</td>\n",
              "      <td>2564.147867</td>\n",
              "      <td>30.643289</td>\n",
              "      <td>0.063978</td>\n",
              "      <td>...</td>\n",
              "      <td>-0.268953</td>\n",
              "      <td>0.008485</td>\n",
              "      <td>4060.568090</td>\n",
              "      <td>43.574660</td>\n",
              "      <td>0.043588</td>\n",
              "      <td>4.282325</td>\n",
              "      <td>0.000055</td>\n",
              "      <td>-0.380245</td>\n",
              "      <td>0.007442</td>\n",
              "      <td>0</td>\n",
              "    </tr>\n",
              "    <tr>\n",
              "      <th>1</th>\n",
              "      <td>523.326874</td>\n",
              "      <td>16.873500</td>\n",
              "      <td>0.063467</td>\n",
              "      <td>4.047713</td>\n",
              "      <td>0.000094</td>\n",
              "      <td>-0.194445</td>\n",
              "      <td>0.009682</td>\n",
              "      <td>620.868114</td>\n",
              "      <td>18.258295</td>\n",
              "      <td>0.059558</td>\n",
              "      <td>...</td>\n",
              "      <td>-0.225780</td>\n",
              "      <td>0.009102</td>\n",
              "      <td>3109.519126</td>\n",
              "      <td>39.393962</td>\n",
              "      <td>0.039366</td>\n",
              "      <td>4.275108</td>\n",
              "      <td>0.000056</td>\n",
              "      <td>-0.372441</td>\n",
              "      <td>0.007499</td>\n",
              "      <td>0</td>\n",
              "    </tr>\n",
              "    <tr>\n",
              "      <th>2</th>\n",
              "      <td>1055.799738</td>\n",
              "      <td>17.909614</td>\n",
              "      <td>0.087139</td>\n",
              "      <td>3.972092</td>\n",
              "      <td>0.000112</td>\n",
              "      <td>-0.158498</td>\n",
              "      <td>0.010561</td>\n",
              "      <td>1230.493287</td>\n",
              "      <td>20.532989</td>\n",
              "      <td>0.073651</td>\n",
              "      <td>...</td>\n",
              "      <td>-0.211449</td>\n",
              "      <td>0.009350</td>\n",
              "      <td>3506.560499</td>\n",
              "      <td>40.324959</td>\n",
              "      <td>0.042584</td>\n",
              "      <td>4.200372</td>\n",
              "      <td>0.000067</td>\n",
              "      <td>-0.296074</td>\n",
              "      <td>0.008173</td>\n",
              "      <td>0</td>\n",
              "    </tr>\n",
              "    <tr>\n",
              "      <th>3</th>\n",
              "      <td>1018.678072</td>\n",
              "      <td>22.600459</td>\n",
              "      <td>0.050991</td>\n",
              "      <td>4.237339</td>\n",
              "      <td>0.000061</td>\n",
              "      <td>-0.336197</td>\n",
              "      <td>0.007788</td>\n",
              "      <td>1236.183838</td>\n",
              "      <td>24.795609</td>\n",
              "      <td>0.047998</td>\n",
              "      <td>...</td>\n",
              "      <td>-0.343403</td>\n",
              "      <td>0.007726</td>\n",
              "      <td>2688.693747</td>\n",
              "      <td>36.812684</td>\n",
              "      <td>0.038563</td>\n",
              "      <td>4.379327</td>\n",
              "      <td>0.000044</td>\n",
              "      <td>-0.528743</td>\n",
              "      <td>0.006642</td>\n",
              "      <td>0</td>\n",
              "    </tr>\n",
              "    <tr>\n",
              "      <th>4</th>\n",
              "      <td>890.269529</td>\n",
              "      <td>19.537066</td>\n",
              "      <td>0.072879</td>\n",
              "      <td>4.057692</td>\n",
              "      <td>0.000092</td>\n",
              "      <td>-0.198916</td>\n",
              "      <td>0.009590</td>\n",
              "      <td>922.992808</td>\n",
              "      <td>21.174291</td>\n",
              "      <td>0.053367</td>\n",
              "      <td>...</td>\n",
              "      <td>-0.257199</td>\n",
              "      <td>0.008636</td>\n",
              "      <td>2366.585474</td>\n",
              "      <td>34.853136</td>\n",
              "      <td>0.043255</td>\n",
              "      <td>4.249887</td>\n",
              "      <td>0.000060</td>\n",
              "      <td>-0.344789</td>\n",
              "      <td>0.007715</td>\n",
              "      <td>0</td>\n",
              "    </tr>\n",
              "  </tbody>\n",
              "</table>\n",
              "<p>5 rows × 85 columns</p>\n",
              "</div>"
            ],
            "text/plain": [
              "   contrast0_0  dissimiliarity0_0  homogeneity0_0  entropy0_0    asm0_0  \\\n",
              "0  2050.086834          27.311805        0.073337    4.097881  0.000084   \n",
              "1   523.326874          16.873500        0.063467    4.047713  0.000094   \n",
              "2  1055.799738          17.909614        0.087139    3.972092  0.000112   \n",
              "3  1018.678072          22.600459        0.050991    4.237339  0.000061   \n",
              "4   890.269529          19.537066        0.072879    4.057692  0.000092   \n",
              "\n",
              "   corellation0_0  energy0_0  contrast45_0  dissimiliarity45_0  \\\n",
              "0       -0.220543   0.009189   2564.147867           30.643289   \n",
              "1       -0.194445   0.009682    620.868114           18.258295   \n",
              "2       -0.158498   0.010561   1230.493287           20.532989   \n",
              "3       -0.336197   0.007788   1236.183838           24.795609   \n",
              "4       -0.198916   0.009590    922.992808           21.174291   \n",
              "\n",
              "   homogeneity45_0  ...  corellation90_2  energy90_2  contrast135_2  \\\n",
              "0         0.063978  ...        -0.268953    0.008485    4060.568090   \n",
              "1         0.059558  ...        -0.225780    0.009102    3109.519126   \n",
              "2         0.073651  ...        -0.211449    0.009350    3506.560499   \n",
              "3         0.047998  ...        -0.343403    0.007726    2688.693747   \n",
              "4         0.053367  ...        -0.257199    0.008636    2366.585474   \n",
              "\n",
              "   dissimiliarity135_2  homogeneity135_2  entropy135_2  asm135_2  \\\n",
              "0            43.574660          0.043588      4.282325  0.000055   \n",
              "1            39.393962          0.039366      4.275108  0.000056   \n",
              "2            40.324959          0.042584      4.200372  0.000067   \n",
              "3            36.812684          0.038563      4.379327  0.000044   \n",
              "4            34.853136          0.043255      4.249887  0.000060   \n",
              "\n",
              "   corellation135_2  energy135_2  label  \n",
              "0         -0.380245     0.007442      0  \n",
              "1         -0.372441     0.007499      0  \n",
              "2         -0.296074     0.008173      0  \n",
              "3         -0.528743     0.006642      0  \n",
              "4         -0.344789     0.007715      0  \n",
              "\n",
              "[5 rows x 85 columns]"
            ]
          },
          "execution_count": 12,
          "metadata": {},
          "output_type": "execute_result"
        }
      ],
      "source": [
        "df = df.replace ({\n",
        " 'celana_panjang':0,\n",
        " 'celana_pendek':1,\n",
        " 'Kaos':2,\n",
        "})\n",
        "df.head()"
      ]
    },
    {
      "cell_type": "code",
      "execution_count": 13,
      "metadata": {
        "id": "Mvv-PVx0w1wg"
      },
      "outputs": [],
      "source": [
        "from sklearn.model_selection import train_test_split\n",
        "from sklearn.preprocessing import MinMaxScaler\n",
        "from sklearn.metrics import classification_report\n",
        "from sklearn.metrics import confusion_matrix\n",
        "\n",
        "\n",
        "x = df.iloc[:,:-1]\n",
        "y = df.iloc[:,-1:]\n",
        "\n",
        "x_train, x_test, y_train, y_test = train_test_split(x, y, test_size=0.2, random_state=0)\n",
        "\n",
        "scaler = MinMaxScaler()\n",
        "x_train_scalled = scaler.fit_transform(x_train)\n",
        "x_test_scalled = scaler.transform(x_test)"
      ]
    },
    {
      "cell_type": "code",
      "execution_count": 14,
      "metadata": {
        "id": "JWpxUNxnw5DD"
      },
      "outputs": [],
      "source": [
        "from sklearn.neighbors import KNeighborsClassifier\n",
        "from sklearn.svm import SVC\n",
        "names = [\"K-Nearest Neighbors\",\n",
        "         \"Linear SVM\"]\n",
        "\n",
        "classifiers = [\n",
        "    KNeighborsClassifier(5),\n",
        "    SVC(gamma=2, C=1),\n",
        "    ]"
      ]
    },
    {
      "cell_type": "code",
      "execution_count": 15,
      "metadata": {
        "id": "683w6yFMxHVo"
      },
      "outputs": [
        {
          "name": "stdout",
          "output_type": "stream",
          "text": [
            "## MODEL NAME : K-Nearest Neighbors\n",
            "[[27  2  0]\n",
            " [ 9 17  7]\n",
            " [ 7  9 18]]\n",
            "              precision    recall  f1-score   support\n",
            "\n",
            "           0       0.63      0.93      0.75        29\n",
            "           1       0.61      0.52      0.56        33\n",
            "           2       0.72      0.53      0.61        34\n",
            "\n",
            "    accuracy                           0.65        96\n",
            "   macro avg       0.65      0.66      0.64        96\n",
            "weighted avg       0.65      0.65      0.63        96\n",
            "\n",
            "\n",
            "\n",
            "## MODEL NAME : Linear SVM\n",
            "[[25  2  2]\n",
            " [ 5 22  6]\n",
            " [ 3  9 22]]\n",
            "              precision    recall  f1-score   support\n",
            "\n",
            "           0       0.76      0.86      0.81        29\n",
            "           1       0.67      0.67      0.67        33\n",
            "           2       0.73      0.65      0.69        34\n",
            "\n",
            "    accuracy                           0.72        96\n",
            "   macro avg       0.72      0.73      0.72        96\n",
            "weighted avg       0.72      0.72      0.72        96\n",
            "\n",
            "\n",
            "\n"
          ]
        }
      ],
      "source": [
        "for name, model in zip(names, classifiers):\n",
        "  model.fit(x_train_scalled, y_train.values.ravel())\n",
        "  y_pred_model = model.predict(x_test_scalled)\n",
        "  print(f'## MODEL NAME : {name}')\n",
        "  print(confusion_matrix(y_test, y_pred_model))\n",
        "  print(classification_report(y_test, y_pred_model))\n",
        "  print('\\n')"
      ]
    },
    {
      "cell_type": "code",
      "execution_count": 16,
      "metadata": {
        "id": "JF_OGxD5xJOW"
      },
      "outputs": [
        {
          "name": "stdout",
          "output_type": "stream",
          "text": [
            "[('dissimiliarity0_2', -0.41179724777115284), ('contrast0_2', -0.2860992708922338), ('entropy0_2', -0.2768948462683974), ('homogeneity90_1', -0.24384210463791706), ('homogeneity90_0', -0.1738234194527513), ('entropy135_2', -0.1665886187414108), ('entropy45_2', -0.16396911085864113), ('entropy0_0', -0.11503146751116418), ('entropy45_0', -0.08491011940634902), ('entropy135_0', -0.08431018147953417), ('homogeneity90_2', -0.07648909350948371), ('corellation90_1', -0.06196178253811031), ('entropy0_1', -0.060222701098059966), ('corellation90_0', -0.05164472653686163), ('dissimiliarity45_2', -0.051271142887835325), ('entropy135_1', -0.04834196956222339), ('entropy45_1', -0.04729171395418203), ('dissimiliarity135_2', -0.04058890847590595), ('homogeneity45_0', -0.038004172424222535), ('homogeneity135_0', -0.03754555228182002), ('corellation45_1', -0.034785127924821475), ('corellation135_1', -0.03392021229342949), ('dissimiliarity0_1', -0.03229149980045857), ('corellation0_1', -0.028803567128786945), ('energy90_0', -0.021637443887423984), ('asm90_0', -0.01461657679185733), ('entropy90_2', -0.00646077030173488), ('contrast0_1', -0.005457242041459958), ('corellation90_2', -0.000898304447288417), ('entropy90_1', 0.003922991423585109), ('contrast45_2', 0.004714390538560906), ('energy90_1', 0.009846371582598575), ('energy90_2', 0.010176782140708896), ('homogeneity45_1', 0.010182677978267642), ('asm90_2', 0.013121256732837126), ('contrast135_2', 0.01988486299350786), ('asm90_1', 0.022624170882641015), ('homogeneity135_1', 0.02604542398355599), ('homogeneity0_0', 0.029455925060167927), ('corellation45_0', 0.0301867562728398), ('corellation135_0', 0.031593859397657464), ('entropy90_0', 0.03205590574458642), ('corellation0_0', 0.04737427155778793), ('dissimiliarity135_1', 0.061834726411273015), ('energy45_1', 0.06516715732645079), ('energy135_1', 0.06609030546431681), ('dissimiliarity45_1', 0.07066361852822932), ('dissimiliarity0_0', 0.07618443256914784), ('energy0_1', 0.08078114523787687), ('asm45_1', 0.08178245803982649), ('asm135_1', 0.08248767301087861), ('homogeneity0_1', 0.0850390761922032), ('contrast135_1', 0.0890153132047677), ('contrast0_0', 0.08981904391285528), ('contrast45_1', 0.09254999786303233), ('asm0_1', 0.10007887319750386), ('energy135_0', 0.10127184066866363), ('energy45_0', 0.10271022554928148), ('asm135_0', 0.11548248375401667), ('asm45_0', 0.11775131476026172), ('energy0_0', 0.13701863548351026), ('corellation45_2', 0.1489092835196556), ('corellation135_2', 0.1533076091393996), ('asm0_0', 0.15671808737051204), ('energy45_2', 0.16442787910325915), ('asm45_2', 0.16583770660495933), ('energy135_2', 0.16630466292190657), ('asm135_2', 0.16707385660804683), ('homogeneity135_2', 0.20156628667097465), ('homogeneity45_2', 0.2036113437759395), ('dissimiliarity45_0', 0.2187499913768342), ('contrast90_1', 0.22493758429401128), ('contrast45_0', 0.22600453831666198), ('dissimiliarity135_0', 0.2263829026087746), ('dissimiliarity90_1', 0.2301649805668526), ('contrast135_0', 0.24005379472283678), ('corellation0_2', 0.2593658556480348), ('energy0_2', 0.27564893013508385), ('asm0_2', 0.27618674903938467), ('dissimiliarity90_0', 0.3318363098386952), ('contrast90_0', 0.33580855530570736), ('homogeneity0_2', 0.3434782370788675), ('contrast90_2', 0.34997721953283933), ('dissimiliarity90_2', 0.3584781358035503), ('label', 0.9999999999999999)]\n"
          ]
        },
        {
          "data": {
            "text/plain": [
              "85"
            ]
          },
          "execution_count": 16,
          "metadata": {},
          "output_type": "execute_result"
        }
      ],
      "source": [
        "correlation = {}\n",
        "label = df['label']\n",
        "for col in df.columns:\n",
        "  correlation[col] = label.corr(df[col])\n",
        "sorted_correlation = sorted(correlation.items(), key=lambda x: x[1])\n",
        "print(sorted_correlation)\n",
        "len(sorted_correlation)"
      ]
    },
    {
      "cell_type": "code",
      "execution_count": 17,
      "metadata": {
        "id": "PQHwNhgOxPiy"
      },
      "outputs": [
        {
          "data": {
            "text/plain": [
              "56"
            ]
          },
          "execution_count": 17,
          "metadata": {},
          "output_type": "execute_result"
        }
      ],
      "source": [
        "positive_corr = {}\n",
        "negative_corr = {}\n",
        "for (k,v) in sorted_correlation:\n",
        "  if(v>0):\n",
        "    positive_corr[k] = v\n",
        "  else:\n",
        "    negative_corr[k] = v\n",
        "len(positive_corr)"
      ]
    }
  ],
  "metadata": {
    "colab": {
      "provenance": []
    },
    "kernelspec": {
      "display_name": "Python 3",
      "name": "python3"
    },
    "language_info": {
      "codemirror_mode": {
        "name": "ipython",
        "version": 3
      },
      "file_extension": ".py",
      "mimetype": "text/x-python",
      "name": "python",
      "nbconvert_exporter": "python",
      "pygments_lexer": "ipython3",
      "version": "3.9.0"
    }
  },
  "nbformat": 4,
  "nbformat_minor": 0
}
